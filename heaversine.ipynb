{
  "nbformat": 4,
  "nbformat_minor": 0,
  "metadata": {
    "colab": {
      "name": "heaversine.ipynb",
      "version": "0.3.2",
      "provenance": [],
      "include_colab_link": true
    },
    "kernelspec": {
      "name": "python3",
      "display_name": "Python 3"
    }
  },
  "cells": [
    {
      "cell_type": "markdown",
      "metadata": {
        "id": "view-in-github",
        "colab_type": "text"
      },
      "source": [
        "<a href=\"https://colab.research.google.com/github/sidnircarlos/heaversine/blob/master/heaversine.ipynb\" target=\"_parent\"><img src=\"https://colab.research.google.com/assets/colab-badge.svg\" alt=\"Open In Colab\"/></a>"
      ]
    },
    {
      "metadata": {
        "id": "URt2gJGXay9V",
        "colab_type": "code",
        "outputId": "e123c1ac-d241-4e7a-bc9b-4e705a05adbb",
        "colab": {
          "base_uri": "https://localhost:8080/",
          "height": 51
        }
      },
      "cell_type": "code",
      "source": [
        "import math\n",
        "\n",
        "lon1 = [-1.465812, -1.474197]   #longitude dos pontos\n",
        "lat1 = [-48.476666, -48.45070]  #latitude dos pontos\n",
        "lon2 = [-1.474341]      #longitude fixa da antena\n",
        "lat2 = [-48.453427]     #latitude fixa da antena\n",
        "dLat = []\n",
        "dLon = []\n",
        "a = []\n",
        "c = []\n",
        "dadoK = []\n",
        "dadoM = []\n",
        "R = 6372.8 #For Earth radius in kilometers use 6372.8 km\n",
        "\n",
        "\n",
        "for i in range(len(lon1)):\n",
        "  dLat.append(math.radians(lat2[0] -lat1[i])) \n",
        "  dLon.append(math.radians(lon2[0] - lon1[i]))\n",
        "  lat1.append(math.radians(lat1[i]))\n",
        "  lat2.append(math.radians(lat2[i]))\n",
        "\n",
        "  a.append(math.sin(dLat[i]/2)**2 + math.cos(lat1[i])*math.cos(lat2[i])*math.sin(dLon[i]/2)**2)\n",
        "  c.append(2*math.asin(math.sqrt(a[i])))\n",
        "\n",
        "  dadoK.append(R * c[i])\n",
        "  dadoM.append(dadoK[i]*1000)\n",
        "  \n",
        "  \n",
        "print('Distância em Km: ' + str(dadoK))\n",
        "print('Distância em m: ' +  str(dadoM))"
      ],
      "execution_count": 0,
      "outputs": [
        {
          "output_type": "stream",
          "text": [
            "Distância em Km: [2.5937697889835127, 0.30324647563443174]\n",
            "Distância em m: [2593.7697889835126, 303.24647563443176]\n"
          ],
          "name": "stdout"
        }
      ]
    },
    {
      "metadata": {
        "id": "Hki3klLPdeII",
        "colab_type": "code",
        "colab": {}
      },
      "cell_type": "code",
      "source": [
        ""
      ],
      "execution_count": 0,
      "outputs": []
    },
    {
      "metadata": {
        "id": "zBP_aYuRdfQF",
        "colab_type": "text"
      },
      "cell_type": "markdown",
      "source": [
        ""
      ]
    },
    {
      "metadata": {
        "id": "5-ns5_mrdfnm",
        "colab_type": "code",
        "colab": {}
      },
      "cell_type": "code",
      "source": [
        ""
      ],
      "execution_count": 0,
      "outputs": []
    }
  ]
}