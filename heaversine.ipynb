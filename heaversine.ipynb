{
  "nbformat": 4,
  "nbformat_minor": 0,
  "metadata": {
    "colab": {
      "name": "heaversine.ipynb",
      "version": "0.3.2",
      "provenance": [],
      "include_colab_link": true
    },
    "kernelspec": {
      "name": "python3",
      "display_name": "Python 3"
    }
  },
  "cells": [
    {
      "cell_type": "markdown",
      "metadata": {
        "id": "view-in-github",
        "colab_type": "text"
      },
      "source": [
        "<a href=\"https://colab.research.google.com/github/sidnircarlos/heaversine/blob/master/heaversine.ipynb\" target=\"_parent\"><img src=\"https://colab.research.google.com/assets/colab-badge.svg\" alt=\"Open In Colab\"/></a>"
      ]
    },
    {
      "metadata": {
        "id": "URt2gJGXay9V",
        "colab_type": "code",
        "outputId": "58988bba-1caa-431e-e43b-e35944cda2f7",
        "colab": {
          "base_uri": "https://localhost:8080/",
          "height": 51
        }
      },
      "cell_type": "code",
      "source": [
        "import math\n",
        "lon1 = -1.465812\n",
        "lat1 = -48.476666\n",
        "lon2 = -1.474341\n",
        "lat2 = -48.453427\n",
        "\n",
        "R = 6372.8 #For Earth radius in kilometers use 6372.8 km\n",
        "\n",
        "dLat = math.radians(lat2 - lat1)\n",
        "dLon = math.radians(lon2 - lon1)\n",
        "lat1 = math.radians(lat1)\n",
        "lat2 = math.radians(lat2)\n",
        "\n",
        "a = math.sin(dLat/2)**2 + math.cos(lat1)*math.cos(lat2)*math.sin(dLon/2)**2\n",
        "c = 2*math.asin(math.sqrt(a))\n",
        "\n",
        "dadoK = R * c\n",
        "dadoM = dadoK*1000\n",
        "print('Distância em Km: ' + str(dadoK))\n",
        "print('Distância em m: ' +  str(dadoM))"
      ],
      "execution_count": 0,
      "outputs": [
        {
          "output_type": "stream",
          "text": [
            "Distância em Km: 2.660227357969174\n",
            "Distância em m: 2660.227357969174\n"
          ],
          "name": "stdout"
        }
      ]
    }
  ]
}